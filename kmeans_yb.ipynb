{
 "cells": [
  {
   "cell_type": "markdown",
   "metadata": {},
   "source": [
    "ESPECIALIZAÇÃO EM INTELIGÊNCIA ARTIFICIAL\n",
    "\n",
    "MÓDULO: FUNDAMENTOS DE INTELIGÊNCIA ARTIFICIAL\n",
    "\n",
    "Prof. Tatiana Tavares\n",
    "\n",
    "Referências:\n",
    "https://www.naftaliharris.com/blog/visualizing-k-means-clustering/\n",
    "\n",
    "https://ralph7c2.shinyapps.io/k-means_simulator/\n",
    "\n",
    "paper: Andrew L. Maas, Awni Y. Hannun, Andrew Y. Ng (2014). Rectifier Nonlinearities Improve Neural Network Acoustic Models\n",
    "\n",
    "dataset: https://scikit-learn.org/stable/modules/generated/sklearn.datasets.load_iris.html\n",
    "\n",
    "\n",
    "    =================   ==============\n",
    "    Classes                          3\n",
    "    Samples per class               50\n",
    "    Samples total                  150\n",
    "    Dimensionality                   4\n",
    "    Features            real, positive\n",
    "    =================   ==============\n",
    "    \n",
    " Existem 4 características: comprimento da sépala, largura da sépala, comprimento da pétala e largura da pétala.\n",
    " Há 3 classes de flores: Setosa, Versicolor and Virginica\n",
    "\n",
    "**********************************************************************************************\n",
    "\n",
    "Outra forma de carregar o dataset iris. Direto da biblioteca sklearn\n",
    "\n",
    "from sklearn import datasets\n",
    "\n",
    "iris = datasets.load_iris()"
   ]
  },
  {
   "cell_type": "code",
   "execution_count": 1,
   "metadata": {},
   "outputs": [
    {
     "name": "stdout",
     "output_type": "stream",
     "text": [
      "0.24.1\n"
     ]
    }
   ],
   "source": [
    "\"\"\"\n",
    "ESPECIALIZAÇÃO EM INTELIGÊNCIA ARTIFICIAL\n",
    "\n",
    "MÓDULO: FUNDAMENTOS DE INTELIGÊNCIA ARTIFICIAL\n",
    "\n",
    "Prof. Tatiana Tavares\n",
    "\"\"\"\n",
    "\n",
    "import os\n",
    "import pandas as pd\n",
    "import numpy as np\n",
    "import os.path as path\n",
    "import warnings\n",
    "import pickle as pck\n",
    "\n",
    "from sklearn import preprocessing\n",
    "from sklearn.utils import shuffle\n",
    "from sklearn.preprocessing import MinMaxScaler\n",
    "import matplotlib.pyplot as plt\n",
    "from mpl_toolkits.mplot3d import Axes3D\n",
    "\n",
    "import pickle\n",
    "import time\n",
    "from tempfile import TemporaryFile\n",
    "\n",
    "from sklearn.cluster import KMeans\n",
    "\n",
    "from yellowbrick.cluster import KElbowVisualizer, SilhouetteVisualizer\n",
    "from yellowbrick.cluster import InterclusterDistance\n",
    "from yellowbrick.text import TSNEVisualizer\n",
    "\n",
    "warnings.filterwarnings(\"ignore\")\n",
    "import sklearn\n",
    "print(sklearn.__version__)"
   ]
  },
  {
   "cell_type": "markdown",
   "metadata": {},
   "source": [
    "# Input data"
   ]
  },
  {
   "cell_type": "code",
   "execution_count": 2,
   "metadata": {},
   "outputs": [
    {
     "data": {
      "text/html": [
       "<div>\n",
       "<style scoped>\n",
       "    .dataframe tbody tr th:only-of-type {\n",
       "        vertical-align: middle;\n",
       "    }\n",
       "\n",
       "    .dataframe tbody tr th {\n",
       "        vertical-align: top;\n",
       "    }\n",
       "\n",
       "    .dataframe thead th {\n",
       "        text-align: right;\n",
       "    }\n",
       "</style>\n",
       "<table border=\"1\" class=\"dataframe\">\n",
       "  <thead>\n",
       "    <tr style=\"text-align: right;\">\n",
       "      <th></th>\n",
       "      <th>Id</th>\n",
       "      <th>SepalLengthCm</th>\n",
       "      <th>SepalWidthCm</th>\n",
       "      <th>PetalLengthCm</th>\n",
       "      <th>PetalWidthCm</th>\n",
       "      <th>Species</th>\n",
       "    </tr>\n",
       "  </thead>\n",
       "  <tbody>\n",
       "    <tr>\n",
       "      <th>0</th>\n",
       "      <td>1</td>\n",
       "      <td>5.1</td>\n",
       "      <td>3.5</td>\n",
       "      <td>1.4</td>\n",
       "      <td>0.2</td>\n",
       "      <td>Iris-setosa</td>\n",
       "    </tr>\n",
       "    <tr>\n",
       "      <th>1</th>\n",
       "      <td>2</td>\n",
       "      <td>4.9</td>\n",
       "      <td>3.0</td>\n",
       "      <td>1.4</td>\n",
       "      <td>0.2</td>\n",
       "      <td>Iris-setosa</td>\n",
       "    </tr>\n",
       "    <tr>\n",
       "      <th>2</th>\n",
       "      <td>3</td>\n",
       "      <td>4.7</td>\n",
       "      <td>3.2</td>\n",
       "      <td>1.3</td>\n",
       "      <td>0.2</td>\n",
       "      <td>Iris-setosa</td>\n",
       "    </tr>\n",
       "    <tr>\n",
       "      <th>3</th>\n",
       "      <td>4</td>\n",
       "      <td>4.6</td>\n",
       "      <td>3.1</td>\n",
       "      <td>1.5</td>\n",
       "      <td>0.2</td>\n",
       "      <td>Iris-setosa</td>\n",
       "    </tr>\n",
       "    <tr>\n",
       "      <th>4</th>\n",
       "      <td>5</td>\n",
       "      <td>5.0</td>\n",
       "      <td>3.6</td>\n",
       "      <td>1.4</td>\n",
       "      <td>0.2</td>\n",
       "      <td>Iris-setosa</td>\n",
       "    </tr>\n",
       "  </tbody>\n",
       "</table>\n",
       "</div>"
      ],
      "text/plain": [
       "   Id  SepalLengthCm  SepalWidthCm  PetalLengthCm  PetalWidthCm      Species\n",
       "0   1            5.1           3.5            1.4           0.2  Iris-setosa\n",
       "1   2            4.9           3.0            1.4           0.2  Iris-setosa\n",
       "2   3            4.7           3.2            1.3           0.2  Iris-setosa\n",
       "3   4            4.6           3.1            1.5           0.2  Iris-setosa\n",
       "4   5            5.0           3.6            1.4           0.2  Iris-setosa"
      ]
     },
     "execution_count": 2,
     "metadata": {},
     "output_type": "execute_result"
    }
   ],
   "source": [
    "np.random.seed(42)\n",
    "\n",
    "data = pd.read_csv('iris_dataset.csv')\n",
    "data.head()"
   ]
  },
  {
   "cell_type": "code",
   "execution_count": 3,
   "metadata": {},
   "outputs": [
    {
     "name": "stdout",
     "output_type": "stream",
     "text": [
      "(150, 6)\n"
     ]
    }
   ],
   "source": [
    "print(data.shape)"
   ]
  },
  {
   "cell_type": "code",
   "execution_count": 4,
   "metadata": {},
   "outputs": [
    {
     "name": "stdout",
     "output_type": "stream",
     "text": [
      "(150, 4)\n",
      "(150, 1)\n"
     ]
    }
   ],
   "source": [
    "# Separa as 4 colunas de features (X = inputs da ML) e a coluna label (y)\n",
    "\n",
    "X = data.iloc [:, [1,2,3,4]]\n",
    "y = data.iloc [:, [5]]  \n",
    "\n",
    "print(X.shape)\n",
    "print(y.shape)"
   ]
  },
  {
   "cell_type": "markdown",
   "metadata": {},
   "source": [
    "Para abordar com eficácia esse conjunto de dados e começar a preparar o caminho para a direção a seguir, uma das coisas recomendadas a fazer é executar estatísticas descritivas simples sobre os dados. I\n",
    "\n",
    "X - matriz de entrada\n",
    "\n",
    "y - labels. Não serão usados durante o treinamento. \n",
    "    Após o calculo dos clusters, estes labels são utilizados para avaliar os clusters."
   ]
  },
  {
   "cell_type": "code",
   "execution_count": 5,
   "metadata": {},
   "outputs": [
    {
     "data": {
      "text/html": [
       "<div>\n",
       "<style scoped>\n",
       "    .dataframe tbody tr th:only-of-type {\n",
       "        vertical-align: middle;\n",
       "    }\n",
       "\n",
       "    .dataframe tbody tr th {\n",
       "        vertical-align: top;\n",
       "    }\n",
       "\n",
       "    .dataframe thead th {\n",
       "        text-align: right;\n",
       "    }\n",
       "</style>\n",
       "<table border=\"1\" class=\"dataframe\">\n",
       "  <thead>\n",
       "    <tr style=\"text-align: right;\">\n",
       "      <th></th>\n",
       "      <th>SepalLengthCm</th>\n",
       "      <th>SepalWidthCm</th>\n",
       "      <th>PetalLengthCm</th>\n",
       "      <th>PetalWidthCm</th>\n",
       "    </tr>\n",
       "  </thead>\n",
       "  <tbody>\n",
       "    <tr>\n",
       "      <th>count</th>\n",
       "      <td>150.000000</td>\n",
       "      <td>150.000000</td>\n",
       "      <td>150.000000</td>\n",
       "      <td>150.000000</td>\n",
       "    </tr>\n",
       "    <tr>\n",
       "      <th>mean</th>\n",
       "      <td>5.843333</td>\n",
       "      <td>3.054000</td>\n",
       "      <td>3.758667</td>\n",
       "      <td>1.198667</td>\n",
       "    </tr>\n",
       "    <tr>\n",
       "      <th>std</th>\n",
       "      <td>0.828066</td>\n",
       "      <td>0.433594</td>\n",
       "      <td>1.764420</td>\n",
       "      <td>0.763161</td>\n",
       "    </tr>\n",
       "    <tr>\n",
       "      <th>min</th>\n",
       "      <td>4.300000</td>\n",
       "      <td>2.000000</td>\n",
       "      <td>1.000000</td>\n",
       "      <td>0.100000</td>\n",
       "    </tr>\n",
       "    <tr>\n",
       "      <th>25%</th>\n",
       "      <td>5.100000</td>\n",
       "      <td>2.800000</td>\n",
       "      <td>1.600000</td>\n",
       "      <td>0.300000</td>\n",
       "    </tr>\n",
       "    <tr>\n",
       "      <th>50%</th>\n",
       "      <td>5.800000</td>\n",
       "      <td>3.000000</td>\n",
       "      <td>4.350000</td>\n",
       "      <td>1.300000</td>\n",
       "    </tr>\n",
       "    <tr>\n",
       "      <th>75%</th>\n",
       "      <td>6.400000</td>\n",
       "      <td>3.300000</td>\n",
       "      <td>5.100000</td>\n",
       "      <td>1.800000</td>\n",
       "    </tr>\n",
       "    <tr>\n",
       "      <th>max</th>\n",
       "      <td>7.900000</td>\n",
       "      <td>4.400000</td>\n",
       "      <td>6.900000</td>\n",
       "      <td>2.500000</td>\n",
       "    </tr>\n",
       "  </tbody>\n",
       "</table>\n",
       "</div>"
      ],
      "text/plain": [
       "       SepalLengthCm  SepalWidthCm  PetalLengthCm  PetalWidthCm\n",
       "count     150.000000    150.000000     150.000000    150.000000\n",
       "mean        5.843333      3.054000       3.758667      1.198667\n",
       "std         0.828066      0.433594       1.764420      0.763161\n",
       "min         4.300000      2.000000       1.000000      0.100000\n",
       "25%         5.100000      2.800000       1.600000      0.300000\n",
       "50%         5.800000      3.000000       4.350000      1.300000\n",
       "75%         6.400000      3.300000       5.100000      1.800000\n",
       "max         7.900000      4.400000       6.900000      2.500000"
      ]
     },
     "execution_count": 5,
     "metadata": {},
     "output_type": "execute_result"
    }
   ],
   "source": [
    "X.describe()"
   ]
  },
  {
   "cell_type": "markdown",
   "metadata": {},
   "source": [
    "Esta tabela resume todas as colunas numéricas do conjunto de dados. É particularmente útil para obter uma noção geral dos dados e como estão estruturados. Por exemplo, olhando para o intervalo e interquartil, podemos identificar rapidamente que o comprimento da pétala é a variável mais ampla e variada e a largura da sépala é a variável menos variada. Essa pode ser uma informação útil ao abordar o estágio de modelagem para entender como cada uma das variáveis contribui para o poder preditivo do modelo.\n",
    "\n",
    "A base de nossa análise está centrada nas espécies. Para desenvolver uma compreensão de como cada uma das variáveis se comporta com base em suas espécies, podemos produzir uma tabela dinâmica com suas médias."
   ]
  },
  {
   "cell_type": "code",
   "execution_count": 6,
   "metadata": {},
   "outputs": [
    {
     "data": {
      "text/html": [
       "<div>\n",
       "<style scoped>\n",
       "    .dataframe tbody tr th:only-of-type {\n",
       "        vertical-align: middle;\n",
       "    }\n",
       "\n",
       "    .dataframe tbody tr th {\n",
       "        vertical-align: top;\n",
       "    }\n",
       "\n",
       "    .dataframe thead th {\n",
       "        text-align: right;\n",
       "    }\n",
       "</style>\n",
       "<table border=\"1\" class=\"dataframe\">\n",
       "  <thead>\n",
       "    <tr style=\"text-align: right;\">\n",
       "      <th></th>\n",
       "      <th>PetalLengthCm</th>\n",
       "      <th>PetalWidthCm</th>\n",
       "      <th>SepalLengthCm</th>\n",
       "      <th>SepalWidthCm</th>\n",
       "    </tr>\n",
       "    <tr>\n",
       "      <th>Species</th>\n",
       "      <th></th>\n",
       "      <th></th>\n",
       "      <th></th>\n",
       "      <th></th>\n",
       "    </tr>\n",
       "  </thead>\n",
       "  <tbody>\n",
       "    <tr>\n",
       "      <th>Iris-setosa</th>\n",
       "      <td>1.464</td>\n",
       "      <td>0.244</td>\n",
       "      <td>5.006</td>\n",
       "      <td>3.418</td>\n",
       "    </tr>\n",
       "    <tr>\n",
       "      <th>Iris-versicolor</th>\n",
       "      <td>4.260</td>\n",
       "      <td>1.326</td>\n",
       "      <td>5.936</td>\n",
       "      <td>2.770</td>\n",
       "    </tr>\n",
       "    <tr>\n",
       "      <th>Iris-virginica</th>\n",
       "      <td>5.552</td>\n",
       "      <td>2.026</td>\n",
       "      <td>6.588</td>\n",
       "      <td>2.974</td>\n",
       "    </tr>\n",
       "  </tbody>\n",
       "</table>\n",
       "</div>"
      ],
      "text/plain": [
       "                 PetalLengthCm  PetalWidthCm  SepalLengthCm  SepalWidthCm\n",
       "Species                                                                  \n",
       "Iris-setosa              1.464         0.244          5.006         3.418\n",
       "Iris-versicolor          4.260         1.326          5.936         2.770\n",
       "Iris-virginica           5.552         2.026          6.588         2.974"
      ]
     },
     "execution_count": 6,
     "metadata": {},
     "output_type": "execute_result"
    }
   ],
   "source": [
    "data_temp = data.iloc [:, [1,2,3,4,5]]\n",
    "data_temp.pivot_table(index='Species', values=['SepalLengthCm','SepalWidthCm',\n",
    "                'PetalLengthCm','PetalWidthCm','Species'],aggfunc=np.mean)"
   ]
  },
  {
   "cell_type": "markdown",
   "metadata": {},
   "source": [
    "Podemos deduzir desta tabela que, em média, os comprimentos e larguras das pétalas de Setosa são muito menores do que os de Versicolor e Virginica. Embora Virginica tenha as maiores dimensões de pétalas, em média. Podemos ver que, em média, os comprimentos das sépalas são bastante próximos em tamanho, porém Setosa tem larguras das sépalas visivelmente maiores do que as outras espécies. Este pivô nos diz que as espécies Setosa possuem algumas características distintas."
   ]
  },
  {
   "cell_type": "code",
   "execution_count": 7,
   "metadata": {},
   "outputs": [],
   "source": [
    "# seleciona os valores no dataframe - y é uma string\n",
    "X = X.values\n",
    "y = y.values"
   ]
  },
  {
   "cell_type": "code",
   "execution_count": 8,
   "metadata": {},
   "outputs": [
    {
     "name": "stdout",
     "output_type": "stream",
     "text": [
      "['Iris-setosa']\n"
     ]
    }
   ],
   "source": [
    "print(y[1])"
   ]
  },
  {
   "cell_type": "code",
   "execution_count": 9,
   "metadata": {},
   "outputs": [
    {
     "data": {
      "text/plain": [
       "array([0, 0, 0, 0, 0, 0, 0, 0, 0, 0, 0, 0, 0, 0, 0, 0, 0, 0, 0, 0, 0, 0,\n",
       "       0, 0, 0, 0, 0, 0, 0, 0, 0, 0, 0, 0, 0, 0, 0, 0, 0, 0, 0, 0, 0, 0,\n",
       "       0, 0, 0, 0, 0, 0, 1, 1, 1, 1, 1, 1, 1, 1, 1, 1, 1, 1, 1, 1, 1, 1,\n",
       "       1, 1, 1, 1, 1, 1, 1, 1, 1, 1, 1, 1, 1, 1, 1, 1, 1, 1, 1, 1, 1, 1,\n",
       "       1, 1, 1, 1, 1, 1, 1, 1, 1, 1, 1, 1, 2, 2, 2, 2, 2, 2, 2, 2, 2, 2,\n",
       "       2, 2, 2, 2, 2, 2, 2, 2, 2, 2, 2, 2, 2, 2, 2, 2, 2, 2, 2, 2, 2, 2,\n",
       "       2, 2, 2, 2, 2, 2, 2, 2, 2, 2, 2, 2, 2, 2, 2, 2, 2, 2])"
      ]
     },
     "execution_count": 9,
     "metadata": {},
     "output_type": "execute_result"
    }
   ],
   "source": [
    "# codifica os labels com valores entre 0 e n_classes - 1\n",
    "le = preprocessing.LabelEncoder()\n",
    "le.fit(y)\n",
    "y_encoder = le.transform(y)\n",
    "y_encoder"
   ]
  },
  {
   "cell_type": "code",
   "execution_count": 10,
   "metadata": {},
   "outputs": [],
   "source": [
    "#  dimensionando cada feature para um determinado intervalo, padrão 0 e 1. Esta transformação é freqüentemente usada como uma alternativa para média zero e variância unitária.\n",
    "data_input = MinMaxScaler().fit_transform(X)"
   ]
  },
  {
   "cell_type": "code",
   "execution_count": 11,
   "metadata": {},
   "outputs": [
    {
     "data": {
      "text/plain": [
       "array([[0.22222222, 0.625     , 0.06779661, 0.04166667],\n",
       "       [0.16666667, 0.41666667, 0.06779661, 0.04166667],\n",
       "       [0.11111111, 0.5       , 0.05084746, 0.04166667],\n",
       "       [0.08333333, 0.45833333, 0.08474576, 0.04166667]])"
      ]
     },
     "execution_count": 11,
     "metadata": {},
     "output_type": "execute_result"
    }
   ],
   "source": [
    "data_input[:4]"
   ]
  },
  {
   "cell_type": "code",
   "execution_count": 12,
   "metadata": {},
   "outputs": [],
   "source": [
    "data_input, y_encoder = shuffle(data_input, y_encoder, random_state = 40)"
   ]
  },
  {
   "cell_type": "code",
   "execution_count": 13,
   "metadata": {},
   "outputs": [
    {
     "name": "stdout",
     "output_type": "stream",
     "text": [
      "(150, 4)\n",
      "(150,)\n",
      "0.0\n",
      "1.0\n"
     ]
    }
   ],
   "source": [
    "print(data_input.shape)\n",
    "print(y_encoder.shape)\n",
    "\n",
    "print(data_input.min())\n",
    "print(data_input.max())"
   ]
  },
  {
   "cell_type": "code",
   "execution_count": 14,
   "metadata": {},
   "outputs": [
    {
     "data": {
      "text/plain": [
       "Text(0, 0.5, 'Sepal Width')"
      ]
     },
     "execution_count": 14,
     "metadata": {},
     "output_type": "execute_result"
    },
    {
     "data": {
      "image/png": "[encoded data removed]",
      "text/plain": [
       "<Figure size 576x396 with 1 Axes>"
      ]
     },
     "metadata": {},
     "output_type": "display_data"
    }
   ],
   "source": [
    "# plot com as 2 primeiras features - 'SepalLengthCm','SepalWidthCm'\n",
    "plt.scatter (data_input[:, 0], data_input[:, 1], c = y_encoder, cmap = 'gist_rainbow') \n",
    "plt.xlabel ('Sepal Length', fontsize = 18) \n",
    "plt.ylabel ('Sepal Width', fontsize = 18)"
   ]
  },
  {
   "cell_type": "markdown",
   "metadata": {},
   "source": [
    "#  Helper Methods"
   ]
  },
  {
   "cell_type": "code",
   "execution_count": 15,
   "metadata": {},
   "outputs": [],
   "source": [
    "GALLERY = path.join(\"gallery\") \n",
    "def newfig():\n",
    "    \"\"\"\n",
    "    Helper function to create an axes object of the gallery dimensions.\n",
    "    \"\"\"\n",
    "    # NOTE: this figsize generates a better thumbnail\n",
    "    _, ax = plt.subplots(figsize=(15, 10))\n",
    "    return ax\n",
    "\n",
    "def savefig(viz, name, gallery=GALLERY):\n",
    "    \"\"\"\n",
    "    Saves the figure to the gallery directory\n",
    "    \"\"\"\n",
    "    if not path.exists(gallery):\n",
    "        os.makedirs(gallery)\n",
    "\n",
    "    # Must save as png\n",
    "    if len(name.split(\".\")) > 1:\n",
    "        raise ValueError(\"name should not specify extension\")\n",
    "\n",
    "    outpath = path.join(gallery, name + \".png\")\n",
    "    viz.show(outpath=outpath)\n",
    "    print(\"created {}\".format(outpath)) "
   ]
  },
  {
   "cell_type": "markdown",
   "metadata": {},
   "source": [
    "#  Clustering"
   ]
  },
  {
   "cell_type": "code",
   "execution_count": 16,
   "metadata": {},
   "outputs": [],
   "source": [
    "def elbow(X):\n",
    "    kmeans = KMeans(max_iter=30, tol=0.0001)\n",
    "    Elbow_visualizer = KElbowVisualizer(kmeans, k=(2,8), ax=newfig())\n",
    "    Elbow_visualizer.fit(X)   \n",
    "    savefig(Elbow_visualizer, \"elbow\")\n",
    "    \n",
    "    # The optimal value of k\n",
    "    k = Elbow_visualizer.elbow_value_\n",
    "    print(\"The optimal value of k:\", k)\n",
    "    return k\n",
    "\n",
    "def silhouette(X, k):\n",
    "    kmeans = KMeans(k)\n",
    "    Silhouette_visualizer = SilhouetteVisualizer(kmeans, ax=newfig())\n",
    "    Silhouette_visualizer.fit(X)\n",
    "    savefig(Silhouette_visualizer, \"silhouette\")\n",
    "    \n",
    "    # Save model \n",
    "    with open('model_kmeans', 'wb') as fp:\n",
    "         pickle.dump(kmeans, fp)\n",
    "\n",
    "def icdm(X, k):\n",
    "    kmeans = KMeans(k)\n",
    "    InterclusterDistance_visualizer = InterclusterDistance(kmeans, ax=newfig())\n",
    "    InterclusterDistance_visualizer.fit(X)\n",
    "    savefig(InterclusterDistance_visualizer, \"icdm\")"
   ]
  },
  {
   "cell_type": "markdown",
   "metadata": {},
   "source": [
    "# Elbow"
   ]
  },
  {
   "cell_type": "code",
   "execution_count": 17,
   "metadata": {},
   "outputs": [
    {
     "name": "stdout",
     "output_type": "stream",
     "text": [
      "created gallery/elbow.png\n",
      "The optimal value of k: 3\n"
     ]
    },
    {
     "data": {
      "image/png": "[encoded data removed]",
      "text/plain": [
       "<Figure size 1080x720 with 2 Axes>"
      ]
     },
     "metadata": {},
     "output_type": "display_data"
    }
   ],
   "source": [
    "# select k using the elbow method\n",
    "k = elbow(data_input)\n",
    "#k = 3"
   ]
  },
  {
   "cell_type": "markdown",
   "metadata": {},
   "source": [
    "# Silhouette Visualizer "
   ]
  },
  {
   "cell_type": "code",
   "execution_count": 18,
   "metadata": {},
   "outputs": [
    {
     "name": "stdout",
     "output_type": "stream",
     "text": [
      "created gallery/silhouette.png\n"
     ]
    },
    {
     "data": {
      "image/png": "[encoded data removed]",
      "text/plain": [
       "<Figure size 1080x720 with 1 Axes>"
      ]
     },
     "metadata": {},
     "output_type": "display_data"
    }
   ],
   "source": [
    "# select k by visualizing silhouette coefficient values\n",
    "silhouette(data_input, k)"
   ]
  },
  {
   "cell_type": "markdown",
   "metadata": {},
   "source": [
    "# Intercluster Distance Maps"
   ]
  },
  {
   "cell_type": "code",
   "execution_count": 19,
   "metadata": {},
   "outputs": [
    {
     "name": "stdout",
     "output_type": "stream",
     "text": [
      "created gallery/icdm.png\n"
     ]
    },
    {
     "data": {
      "image/png": "[encoded data removed]",
      "text/plain": [
       "<Figure size 1080x720 with 2 Axes>"
      ]
     },
     "metadata": {},
     "output_type": "display_data"
    }
   ],
   "source": [
    "# show relative distance and size/importance of clusters\n",
    "icdm(data_input, k)"
   ]
  },
  {
   "cell_type": "markdown",
   "metadata": {},
   "source": [
    "# Calculated Labels"
   ]
  },
  {
   "cell_type": "code",
   "execution_count": 59,
   "metadata": {},
   "outputs": [],
   "source": [
    "loaded_model_Elbow_visualizer = pickle.load(open('model_kmeans', 'rb'))"
   ]
  },
  {
   "cell_type": "code",
   "execution_count": 60,
   "metadata": {},
   "outputs": [],
   "source": [
    "cluster_kmeans = loaded_model_Elbow_visualizer.labels_\n",
    "label = y_encoder"
   ]
  },
  {
   "cell_type": "code",
   "execution_count": 61,
   "metadata": {},
   "outputs": [
    {
     "data": {
      "text/html": [
       "<div>\n",
       "<style scoped>\n",
       "    .dataframe tbody tr th:only-of-type {\n",
       "        vertical-align: middle;\n",
       "    }\n",
       "\n",
       "    .dataframe tbody tr th {\n",
       "        vertical-align: top;\n",
       "    }\n",
       "\n",
       "    .dataframe thead th {\n",
       "        text-align: right;\n",
       "    }\n",
       "</style>\n",
       "<table border=\"1\" class=\"dataframe\">\n",
       "  <thead>\n",
       "    <tr style=\"text-align: right;\">\n",
       "      <th></th>\n",
       "      <th>0</th>\n",
       "      <th>1</th>\n",
       "      <th>2</th>\n",
       "      <th>3</th>\n",
       "    </tr>\n",
       "  </thead>\n",
       "  <tbody>\n",
       "    <tr>\n",
       "      <th>0</th>\n",
       "      <td>0.027778</td>\n",
       "      <td>0.416667</td>\n",
       "      <td>0.050847</td>\n",
       "      <td>0.041667</td>\n",
       "    </tr>\n",
       "    <tr>\n",
       "      <th>1</th>\n",
       "      <td>0.361111</td>\n",
       "      <td>0.416667</td>\n",
       "      <td>0.593220</td>\n",
       "      <td>0.583333</td>\n",
       "    </tr>\n",
       "    <tr>\n",
       "      <th>2</th>\n",
       "      <td>0.583333</td>\n",
       "      <td>0.500000</td>\n",
       "      <td>0.728814</td>\n",
       "      <td>0.916667</td>\n",
       "    </tr>\n",
       "    <tr>\n",
       "      <th>3</th>\n",
       "      <td>0.944444</td>\n",
       "      <td>0.750000</td>\n",
       "      <td>0.966102</td>\n",
       "      <td>0.875000</td>\n",
       "    </tr>\n",
       "    <tr>\n",
       "      <th>4</th>\n",
       "      <td>0.333333</td>\n",
       "      <td>0.208333</td>\n",
       "      <td>0.508475</td>\n",
       "      <td>0.500000</td>\n",
       "    </tr>\n",
       "    <tr>\n",
       "      <th>...</th>\n",
       "      <td>...</td>\n",
       "      <td>...</td>\n",
       "      <td>...</td>\n",
       "      <td>...</td>\n",
       "    </tr>\n",
       "    <tr>\n",
       "      <th>145</th>\n",
       "      <td>0.500000</td>\n",
       "      <td>0.333333</td>\n",
       "      <td>0.508475</td>\n",
       "      <td>0.500000</td>\n",
       "    </tr>\n",
       "    <tr>\n",
       "      <th>146</th>\n",
       "      <td>0.138889</td>\n",
       "      <td>0.416667</td>\n",
       "      <td>0.067797</td>\n",
       "      <td>0.000000</td>\n",
       "    </tr>\n",
       "    <tr>\n",
       "      <th>147</th>\n",
       "      <td>0.750000</td>\n",
       "      <td>0.500000</td>\n",
       "      <td>0.627119</td>\n",
       "      <td>0.541667</td>\n",
       "    </tr>\n",
       "    <tr>\n",
       "      <th>148</th>\n",
       "      <td>0.194444</td>\n",
       "      <td>0.583333</td>\n",
       "      <td>0.084746</td>\n",
       "      <td>0.041667</td>\n",
       "    </tr>\n",
       "    <tr>\n",
       "      <th>149</th>\n",
       "      <td>0.444444</td>\n",
       "      <td>0.500000</td>\n",
       "      <td>0.644068</td>\n",
       "      <td>0.708333</td>\n",
       "    </tr>\n",
       "  </tbody>\n",
       "</table>\n",
       "<p>150 rows × 4 columns</p>\n",
       "</div>"
      ],
      "text/plain": [
       "            0         1         2         3\n",
       "0    0.027778  0.416667  0.050847  0.041667\n",
       "1    0.361111  0.416667  0.593220  0.583333\n",
       "2    0.583333  0.500000  0.728814  0.916667\n",
       "3    0.944444  0.750000  0.966102  0.875000\n",
       "4    0.333333  0.208333  0.508475  0.500000\n",
       "..        ...       ...       ...       ...\n",
       "145  0.500000  0.333333  0.508475  0.500000\n",
       "146  0.138889  0.416667  0.067797  0.000000\n",
       "147  0.750000  0.500000  0.627119  0.541667\n",
       "148  0.194444  0.583333  0.084746  0.041667\n",
       "149  0.444444  0.500000  0.644068  0.708333\n",
       "\n",
       "[150 rows x 4 columns]"
      ]
     },
     "execution_count": 61,
     "metadata": {},
     "output_type": "execute_result"
    }
   ],
   "source": [
    "df_data_input = pd.DataFrame(data_input)\n",
    "df_data_input"
   ]
  },
  {
   "cell_type": "code",
   "execution_count": 62,
   "metadata": {},
   "outputs": [
    {
     "data": {
      "text/html": [
       "<div>\n",
       "<style scoped>\n",
       "    .dataframe tbody tr th:only-of-type {\n",
       "        vertical-align: middle;\n",
       "    }\n",
       "\n",
       "    .dataframe tbody tr th {\n",
       "        vertical-align: top;\n",
       "    }\n",
       "\n",
       "    .dataframe thead th {\n",
       "        text-align: right;\n",
       "    }\n",
       "</style>\n",
       "<table border=\"1\" class=\"dataframe\">\n",
       "  <thead>\n",
       "    <tr style=\"text-align: right;\">\n",
       "      <th></th>\n",
       "      <th>0</th>\n",
       "      <th>1</th>\n",
       "      <th>2</th>\n",
       "      <th>3</th>\n",
       "      <th>cluster_kmeans</th>\n",
       "      <th>label</th>\n",
       "    </tr>\n",
       "  </thead>\n",
       "  <tbody>\n",
       "    <tr>\n",
       "      <th>0</th>\n",
       "      <td>0.027778</td>\n",
       "      <td>0.416667</td>\n",
       "      <td>0.050847</td>\n",
       "      <td>0.041667</td>\n",
       "      <td>1</td>\n",
       "      <td>0</td>\n",
       "    </tr>\n",
       "    <tr>\n",
       "      <th>1</th>\n",
       "      <td>0.361111</td>\n",
       "      <td>0.416667</td>\n",
       "      <td>0.593220</td>\n",
       "      <td>0.583333</td>\n",
       "      <td>2</td>\n",
       "      <td>1</td>\n",
       "    </tr>\n",
       "    <tr>\n",
       "      <th>2</th>\n",
       "      <td>0.583333</td>\n",
       "      <td>0.500000</td>\n",
       "      <td>0.728814</td>\n",
       "      <td>0.916667</td>\n",
       "      <td>0</td>\n",
       "      <td>2</td>\n",
       "    </tr>\n",
       "    <tr>\n",
       "      <th>3</th>\n",
       "      <td>0.944444</td>\n",
       "      <td>0.750000</td>\n",
       "      <td>0.966102</td>\n",
       "      <td>0.875000</td>\n",
       "      <td>0</td>\n",
       "      <td>2</td>\n",
       "    </tr>\n",
       "    <tr>\n",
       "      <th>4</th>\n",
       "      <td>0.333333</td>\n",
       "      <td>0.208333</td>\n",
       "      <td>0.508475</td>\n",
       "      <td>0.500000</td>\n",
       "      <td>2</td>\n",
       "      <td>1</td>\n",
       "    </tr>\n",
       "    <tr>\n",
       "      <th>...</th>\n",
       "      <td>...</td>\n",
       "      <td>...</td>\n",
       "      <td>...</td>\n",
       "      <td>...</td>\n",
       "      <td>...</td>\n",
       "      <td>...</td>\n",
       "    </tr>\n",
       "    <tr>\n",
       "      <th>145</th>\n",
       "      <td>0.500000</td>\n",
       "      <td>0.333333</td>\n",
       "      <td>0.508475</td>\n",
       "      <td>0.500000</td>\n",
       "      <td>2</td>\n",
       "      <td>1</td>\n",
       "    </tr>\n",
       "    <tr>\n",
       "      <th>146</th>\n",
       "      <td>0.138889</td>\n",
       "      <td>0.416667</td>\n",
       "      <td>0.067797</td>\n",
       "      <td>0.000000</td>\n",
       "      <td>1</td>\n",
       "      <td>0</td>\n",
       "    </tr>\n",
       "    <tr>\n",
       "      <th>147</th>\n",
       "      <td>0.750000</td>\n",
       "      <td>0.500000</td>\n",
       "      <td>0.627119</td>\n",
       "      <td>0.541667</td>\n",
       "      <td>0</td>\n",
       "      <td>1</td>\n",
       "    </tr>\n",
       "    <tr>\n",
       "      <th>148</th>\n",
       "      <td>0.194444</td>\n",
       "      <td>0.583333</td>\n",
       "      <td>0.084746</td>\n",
       "      <td>0.041667</td>\n",
       "      <td>1</td>\n",
       "      <td>0</td>\n",
       "    </tr>\n",
       "    <tr>\n",
       "      <th>149</th>\n",
       "      <td>0.444444</td>\n",
       "      <td>0.500000</td>\n",
       "      <td>0.644068</td>\n",
       "      <td>0.708333</td>\n",
       "      <td>2</td>\n",
       "      <td>1</td>\n",
       "    </tr>\n",
       "  </tbody>\n",
       "</table>\n",
       "<p>150 rows × 6 columns</p>\n",
       "</div>"
      ],
      "text/plain": [
       "            0         1         2         3  cluster_kmeans  label\n",
       "0    0.027778  0.416667  0.050847  0.041667               1      0\n",
       "1    0.361111  0.416667  0.593220  0.583333               2      1\n",
       "2    0.583333  0.500000  0.728814  0.916667               0      2\n",
       "3    0.944444  0.750000  0.966102  0.875000               0      2\n",
       "4    0.333333  0.208333  0.508475  0.500000               2      1\n",
       "..        ...       ...       ...       ...             ...    ...\n",
       "145  0.500000  0.333333  0.508475  0.500000               2      1\n",
       "146  0.138889  0.416667  0.067797  0.000000               1      0\n",
       "147  0.750000  0.500000  0.627119  0.541667               0      1\n",
       "148  0.194444  0.583333  0.084746  0.041667               1      0\n",
       "149  0.444444  0.500000  0.644068  0.708333               2      1\n",
       "\n",
       "[150 rows x 6 columns]"
      ]
     },
     "execution_count": 62,
     "metadata": {},
     "output_type": "execute_result"
    }
   ],
   "source": [
    "df_data_input['cluster_kmeans'] = cluster_kmeans\n",
    "df_data_input['label'] = label\n",
    "df_data_input"
   ]
  },
  {
   "cell_type": "code",
   "execution_count": 63,
   "metadata": {},
   "outputs": [
    {
     "data": {
      "text/plain": [
       "2    61\n",
       "1    50\n",
       "0    39\n",
       "Name: cluster_kmeans, dtype: int64"
      ]
     },
     "execution_count": 63,
     "metadata": {},
     "output_type": "execute_result"
    }
   ],
   "source": [
    "# verificar os valores únicos por cluster\n",
    "df_data_input['cluster_kmeans'].value_counts()"
   ]
  },
  {
   "cell_type": "code",
   "execution_count": 64,
   "metadata": {},
   "outputs": [
    {
     "name": "stdout",
     "output_type": "stream",
     "text": [
      "            0         1         2         3  cluster_kmeans  label\n",
      "2    0.583333  0.500000  0.728814  0.916667               0      2\n",
      "3    0.944444  0.750000  0.966102  0.875000               0      2\n",
      "5    0.555556  0.583333  0.779661  0.958333               0      2\n",
      "15   0.666667  0.541667  0.796610  1.000000               0      2\n",
      "17   0.666667  0.541667  0.796610  0.833333               0      2\n",
      "20   0.583333  0.333333  0.779661  0.875000               0      2\n",
      "21   0.916667  0.416667  0.949153  0.833333               0      2\n",
      "27   0.611111  0.416667  0.762712  0.708333               0      2\n",
      "35   0.583333  0.333333  0.779661  0.833333               0      2\n",
      "43   0.777778  0.416667  0.830508  0.833333               0      2\n",
      "44   0.805556  0.500000  0.847458  0.708333               0      2\n",
      "46   0.944444  0.250000  1.000000  0.916667               0      2\n",
      "50   0.555556  0.541667  0.847458  1.000000               0      2\n",
      "58   0.583333  0.291667  0.728814  0.750000               0      2\n",
      "61   0.694444  0.500000  0.830508  0.916667               0      2\n",
      "64   0.694444  0.416667  0.762712  0.833333               0      2\n",
      "67   0.944444  0.333333  0.966102  0.791667               0      2\n",
      "69   0.805556  0.416667  0.813559  0.625000               0      2\n",
      "70   0.611111  0.500000  0.694915  0.791667               0      2\n",
      "72   0.611111  0.416667  0.711864  0.791667               0      2\n",
      "76   0.666667  0.458333  0.779661  0.958333               0      2\n",
      "78   0.583333  0.458333  0.762712  0.708333               0      2\n",
      "80   0.666667  0.416667  0.677966  0.666667               0      1\n",
      "82   0.666667  0.416667  0.711864  0.916667               0      2\n",
      "84   0.944444  0.416667  0.864407  0.916667               0      2\n",
      "88   0.722222  0.458333  0.661017  0.583333               0      1\n",
      "92   0.722222  0.500000  0.796610  0.916667               0      2\n",
      "97   0.555556  0.375000  0.779661  0.708333               0      2\n",
      "98   0.805556  0.666667  0.864407  1.000000               0      2\n",
      "107  0.833333  0.375000  0.898305  0.708333               0      2\n",
      "109  0.861111  0.333333  0.864407  0.750000               0      2\n",
      "112  0.527778  0.583333  0.745763  0.916667               0      2\n",
      "116  0.666667  0.208333  0.813559  0.708333               0      2\n",
      "129  0.722222  0.458333  0.694915  0.916667               0      2\n",
      "131  1.000000  0.750000  0.915254  0.791667               0      2\n",
      "133  0.611111  0.416667  0.813559  0.875000               0      2\n",
      "137  0.722222  0.458333  0.745763  0.833333               0      2\n",
      "144  0.416667  0.333333  0.694915  0.958333               0      2\n",
      "147  0.750000  0.500000  0.627119  0.541667               0      1\n",
      "            0         1         2         3  cluster_kmeans  label\n",
      "0    0.027778  0.416667  0.050847  0.041667               1      0\n",
      "9    0.250000  0.583333  0.067797  0.041667               1      0\n",
      "11   0.138889  0.583333  0.101695  0.041667               1      0\n",
      "12   0.194444  0.625000  0.050847  0.083333               1      0\n",
      "23   0.222222  0.625000  0.067797  0.083333               1      0\n",
      "25   0.388889  0.750000  0.118644  0.083333               1      0\n",
      "26   0.000000  0.416667  0.016949  0.000000               1      0\n",
      "28   0.166667  0.458333  0.084746  0.000000               1      0\n",
      "31   0.222222  0.541667  0.118644  0.166667               1      0\n",
      "32   0.194444  0.583333  0.101695  0.125000               1      0\n",
      "33   0.277778  0.708333  0.084746  0.041667               1      0\n",
      "34   0.111111  0.500000  0.050847  0.041667               1      0\n",
      "36   0.083333  0.583333  0.067797  0.083333               1      0\n",
      "37   0.027778  0.500000  0.050847  0.041667               1      0\n",
      "39   0.388889  1.000000  0.084746  0.125000               1      0\n",
      "40   0.083333  0.458333  0.084746  0.041667               1      0\n",
      "45   0.222222  0.583333  0.084746  0.041667               1      0\n",
      "49   0.166667  0.458333  0.084746  0.000000               1      0\n",
      "54   0.138889  0.583333  0.152542  0.041667               1      0\n",
      "55   0.305556  0.791667  0.050847  0.125000               1      0\n",
      "60   0.194444  0.666667  0.067797  0.041667               1      0\n",
      "63   0.305556  0.708333  0.084746  0.041667               1      0\n",
      "65   0.138889  0.416667  0.067797  0.083333               1      0\n",
      "66   0.111111  0.500000  0.101695  0.041667               1      0\n",
      "68   0.083333  0.500000  0.067797  0.041667               1      0\n",
      "71   0.305556  0.583333  0.118644  0.041667               1      0\n",
      "74   0.250000  0.875000  0.084746  0.000000               1      0\n",
      "75   0.222222  0.708333  0.084746  0.125000               1      0\n",
      "77   0.250000  0.625000  0.084746  0.041667               1      0\n",
      "85   0.166667  0.458333  0.084746  0.000000               1      0\n",
      "89   0.333333  0.916667  0.067797  0.041667               1      0\n",
      "90   0.166667  0.416667  0.067797  0.041667               1      0\n",
      "91   0.222222  0.625000  0.067797  0.041667               1      0\n",
      "95   0.333333  0.625000  0.050847  0.041667               1      0\n",
      "104  0.194444  0.416667  0.101695  0.041667               1      0\n",
      "110  0.055556  0.125000  0.050847  0.083333               1      0\n",
      "115  0.305556  0.791667  0.118644  0.125000               1      0\n",
      "118  0.305556  0.583333  0.084746  0.125000               1      0\n",
      "121  0.194444  0.500000  0.033898  0.041667               1      0\n",
      "122  0.194444  0.625000  0.101695  0.208333               1      0\n",
      "125  0.222222  0.750000  0.101695  0.041667               1      0\n",
      "126  0.222222  0.750000  0.152542  0.125000               1      0\n",
      "128  0.138889  0.458333  0.101695  0.041667               1      0\n",
      "132  0.083333  0.666667  0.000000  0.041667               1      0\n",
      "135  0.416667  0.833333  0.033898  0.041667               1      0\n",
      "136  0.027778  0.375000  0.067797  0.041667               1      0\n",
      "138  0.194444  0.541667  0.067797  0.041667               1      0\n",
      "143  0.222222  0.750000  0.084746  0.083333               1      0\n",
      "146  0.138889  0.416667  0.067797  0.000000               1      0\n",
      "148  0.194444  0.583333  0.084746  0.041667               1      0\n",
      "            0         1         2         3  cluster_kmeans  label\n",
      "1    0.361111  0.416667  0.593220  0.583333               2      1\n",
      "4    0.333333  0.208333  0.508475  0.500000               2      1\n",
      "6    0.527778  0.083333  0.593220  0.583333               2      1\n",
      "7    0.361111  0.291667  0.542373  0.500000               2      1\n",
      "8    0.305556  0.416667  0.593220  0.583333               2      1\n",
      "..        ...       ...       ...       ...             ...    ...\n",
      "140  0.500000  0.416667  0.610169  0.541667               2      1\n",
      "141  0.388889  0.333333  0.593220  0.500000               2      1\n",
      "142  0.583333  0.375000  0.559322  0.500000               2      1\n",
      "145  0.500000  0.333333  0.508475  0.500000               2      1\n",
      "149  0.444444  0.500000  0.644068  0.708333               2      1\n",
      "\n",
      "[61 rows x 6 columns]\n"
     ]
    }
   ],
   "source": [
    "filtered_df_data_input_0 = df_data_input.query('cluster_kmeans == 0')\n",
    "filtered_df_data_input_1 = df_data_input.query('cluster_kmeans == 1')\n",
    "filtered_df_data_input_2 = df_data_input.query('cluster_kmeans == 2')\n",
    "\n",
    "print(filtered_df_data_input_0)\n",
    "print(filtered_df_data_input_1)\n",
    "print(filtered_df_data_input_2)"
   ]
  },
  {
   "cell_type": "code",
   "execution_count": 65,
   "metadata": {},
   "outputs": [],
   "source": [
    "# atribuir os nomes corretos aos clusters cluster_0 = label_1, cluster_1 = label_0 e cluster_2 = label_2\n",
    "re_cluster_kmeans = np.choose(loaded_model_Elbow_visualizer.labels_,[1,0,2]).astype(np.int64)"
   ]
  },
  {
   "cell_type": "code",
   "execution_count": 66,
   "metadata": {},
   "outputs": [
    {
     "data": {
      "text/plain": [
       "array([0, 2, 1, 1, 2, 1, 2, 2, 2, 0, 2, 0, 0, 2, 2, 1, 2, 1, 2, 2, 1, 1,\n",
       "       2, 0, 2, 0, 0, 1, 0, 2, 2, 0, 0, 0, 0, 1, 0, 0, 2, 0, 0, 2, 2, 1,\n",
       "       1, 0, 1, 2, 2, 0, 1, 2, 2, 2, 0, 0, 2, 2, 1, 2, 0, 1, 2, 0, 1, 0,\n",
       "       0, 1, 0, 1, 1, 0, 1, 2, 0, 0, 1, 0, 1, 2, 1, 2, 1, 2, 1, 0, 2, 2,\n",
       "       1, 0, 0, 0, 1, 2, 2, 0, 2, 1, 1, 2, 2, 2, 2, 2, 0, 2, 2, 1, 2, 1,\n",
       "       0, 2, 1, 2, 2, 0, 1, 2, 0, 2, 2, 0, 0, 2, 2, 0, 0, 2, 0, 1, 2, 1,\n",
       "       0, 1, 2, 0, 0, 1, 0, 2, 2, 2, 2, 0, 1, 2, 0, 1, 0, 2])"
      ]
     },
     "execution_count": 66,
     "metadata": {},
     "output_type": "execute_result"
    }
   ],
   "source": [
    "re_cluster_kmeans"
   ]
  },
  {
   "cell_type": "code",
   "execution_count": 67,
   "metadata": {},
   "outputs": [
    {
     "data": {
      "text/plain": [
       "array([0, 1, 2, 2, 1, 2, 1, 1, 1, 0, 1, 0, 0, 2, 1, 2, 2, 2, 1, 1, 2, 2,\n",
       "       1, 0, 1, 0, 0, 2, 0, 1, 1, 0, 0, 0, 0, 2, 0, 0, 2, 0, 0, 1, 2, 2,\n",
       "       2, 0, 2, 2, 1, 0, 2, 1, 1, 1, 0, 0, 1, 1, 2, 2, 0, 2, 1, 0, 2, 0,\n",
       "       0, 2, 0, 2, 2, 0, 2, 1, 0, 0, 2, 0, 2, 2, 1, 1, 2, 1, 2, 0, 2, 1,\n",
       "       1, 0, 0, 0, 2, 2, 1, 0, 1, 2, 2, 1, 2, 2, 1, 1, 0, 1, 1, 2, 1, 2,\n",
       "       0, 2, 2, 1, 1, 0, 2, 1, 0, 1, 2, 0, 0, 2, 1, 0, 0, 1, 0, 2, 1, 2,\n",
       "       0, 2, 1, 0, 0, 2, 0, 1, 1, 1, 1, 0, 2, 1, 0, 1, 0, 1])"
      ]
     },
     "execution_count": 67,
     "metadata": {},
     "output_type": "execute_result"
    }
   ],
   "source": [
    "label"
   ]
  },
  {
   "cell_type": "markdown",
   "metadata": {},
   "source": [
    "# Cluster analysis"
   ]
  },
  {
   "cell_type": "code",
   "execution_count": 68,
   "metadata": {},
   "outputs": [
    {
     "name": "stdout",
     "output_type": "stream",
     "text": [
      "Number of acertos: 44.666666666666664\n"
     ]
    }
   ],
   "source": [
    "# Métricas da validação da Bagging \n",
    "n_acertos = 0\n",
    "for u in range(0, len(label)):\n",
    "    if re_cluster_kmeans[u] == label[u]:\n",
    "        n_acertos += 1 \n",
    "print('Number of acertos: ' + str((n_acertos/len(y_encoder))*100))  "
   ]
  },
  {
   "cell_type": "code",
   "execution_count": null,
   "metadata": {},
   "outputs": [],
   "source": []
  }
 ],
 "metadata": {
  "kernelspec": {
   "display_name": "Python 3",
   "language": "python",
   "name": "python3"
  },
  "language_info": {
   "codemirror_mode": {
    "name": "ipython",
    "version": 3
   },
   "file_extension": ".py",
   "mimetype": "text/x-python",
   "name": "python",
   "nbconvert_exporter": "python",
   "pygments_lexer": "ipython3",
   "version": "3.8.8"
  }
 },
 "nbformat": 4,
 "nbformat_minor": 4
}
